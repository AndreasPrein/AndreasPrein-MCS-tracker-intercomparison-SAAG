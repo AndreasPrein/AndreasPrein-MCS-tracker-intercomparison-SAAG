{
 "cells": [
  {
   "cell_type": "code",
   "execution_count": 1,
   "metadata": {},
   "outputs": [],
   "source": [
    "#!/usr/bin/env python"
   ]
  },
  {
   "cell_type": "markdown",
   "metadata": {},
   "source": [
    "# Claculate_MCS_Characteristics_SouthAmerica.ipynb"
   ]
  },
  {
   "cell_type": "raw",
   "metadata": {},
   "source": [
    "#!/usr/bin/env python\n",
    "''' \n",
    "   Claculate_MCS_Characteristics_SouthAmerica.ipynb\n",
    "\n",
    "   This program reads in MCS masks and calculates MCS statistics\n",
    "\n",
    "'''"
   ]
  },
  {
   "cell_type": "code",
   "execution_count": 2,
   "metadata": {},
   "outputs": [],
   "source": [
    "from dateutil import rrule\n",
    "import datetime\n",
    "import glob\n",
    "from netCDF4 import Dataset\n",
    "import sys, traceback\n",
    "import dateutil.parser as dparser\n",
    "import string\n",
    "from pdb import set_trace as stop\n",
    "import numpy as np\n",
    "import numpy.ma as ma\n",
    "import os\n",
    "# from mpl_toolkits import basemap\n",
    "# import ESMF\n",
    "import pickle\n",
    "import subprocess\n",
    "import pandas as pd\n",
    "from scipy import stats\n",
    "import copy\n",
    "import matplotlib.pyplot as plt\n",
    "import matplotlib.colors as colors\n",
    "import matplotlib as mpl\n",
    "import pylab as plt\n",
    "import random\n",
    "import scipy.ndimage as ndimage\n",
    "import scipy\n",
    "import shapefile\n",
    "import matplotlib.path as mplPath\n",
    "from matplotlib.patches import Polygon as Polygon2\n",
    "# Cluster specific modules\n",
    "from scipy.cluster.hierarchy import dendrogram, linkage\n",
    "from scipy.cluster.hierarchy import cophenet\n",
    "from scipy.spatial.distance import pdist\n",
    "from scipy.cluster.hierarchy import fcluster\n",
    "from scipy.cluster.vq import kmeans2,vq, whiten\n",
    "from scipy.ndimage import gaussian_filter\n",
    "# import seaborn as sns\n",
    "# import metpy.calc as mpcalc\n",
    "import shapefile as shp\n",
    "import sys \n",
    "import matplotlib.gridspec as gridspec\n",
    "import seaborn\n",
    "# from mpl_toolkits.basemap import Basemap, cm\n",
    "import xarray as xr\n",
    "import geopandas as gpd\n",
    "from tqdm import tqdm\n"
   ]
  },
  {
   "cell_type": "code",
   "execution_count": 3,
   "metadata": {},
   "outputs": [],
   "source": [
    "def calc_grid_distance_area(lat,lon):\n",
    "    \"\"\" Function to calculate grid parameters\n",
    "        It uses haversine function to approximate distances\n",
    "        It approximates the first row and column to the sencond\n",
    "        because coordinates of grid cell center are assumed\n",
    "        lat, lon: input coordinates(degrees) 2D [y,x] dimensions\n",
    "        dx: distance (m)\n",
    "        dy: distance (m)\n",
    "        area: area of grid cell (m2)\n",
    "        grid_distance: average grid distance over the domain (m)\n",
    "    \"\"\"\n",
    "    dy = np.zeros(lat.shape)\n",
    "    dx = np.zeros(lon.shape)\n",
    "\n",
    "    dx[:,1:]=haversine(lat[:,1:],lon[:,1:],lat[:,:-1],lon[:,:-1])\n",
    "    dy[1:,:]=haversine(lat[1:,:],lon[1:,:],lat[:-1,:],lon[:-1,:])\n",
    "\n",
    "    dx[:,0] = dx[:,1]\n",
    "    dy[0,:] = dy[1,:]\n",
    "\n",
    "    area = dx*dy\n",
    "    grid_distance = np.mean(np.append(dy[:, :, None], dx[:, :, None], axis=2))\n",
    "\n",
    "    return dx,dy,area,grid_distance"
   ]
  },
  {
   "cell_type": "code",
   "execution_count": 44,
   "metadata": {},
   "outputs": [],
   "source": [
    "def calc_grid_distance_area(lat,lon):\n",
    "    \"\"\" Function to calculate grid parameters\n",
    "        It uses haversine function to approximate distances\n",
    "        It approximates the first row and column to the sencond\n",
    "        because coordinates of grid cell center are assumed\n",
    "        lat, lon: input coordinates(degrees) 2D [y,x] dimensions\n",
    "        dx: distance (m)\n",
    "        dy: distance (m)\n",
    "        area: area of grid cell (m2)\n",
    "        grid_distance: average grid distance over the domain (m)\n",
    "    \"\"\"\n",
    "    dy = np.zeros(lat.shape)\n",
    "    dx = np.zeros(lon.shape)\n",
    "\n",
    "    dx[:,1:]=haversine(lat[:,1:],lon[:,1:],lat[:,:-1],lon[:,:-1])\n",
    "    dy[1:,:]=haversine(lat[1:,:],lon[1:,:],lat[:-1,:],lon[:-1,:])\n",
    "\n",
    "    dx[:,0] = dx[:,1]\n",
    "    dy[0,:] = dy[1,:]\n",
    "\n",
    "    area = dx*dy\n",
    "    grid_distance = np.mean(np.append(dy[:, :, None], dx[:, :, None], axis=2))\n",
    "\n",
    "    return dx,dy,area,grid_distance"
   ]
  },
  {
   "cell_type": "code",
   "execution_count": 4,
   "metadata": {},
   "outputs": [],
   "source": [
    "def distance(origin, destination):\n",
    "    lat1, lon1 = origin\n",
    "    lat2, lon2 = destination\n",
    "    radius = 6371 # km\n",
    "\n",
    "    dlat = math.radians(lat2-lat1)\n",
    "    dlon = math.radians(lon2-lon1)\n",
    "    a = math.sin(dlat/2) * math.sin(dlat/2) + math.cos(math.radians(lat1)) \\\n",
    "        * math.cos(math.radians(lat2)) * math.sin(dlon/2) * math.sin(dlon/2)\n",
    "    c = 2 * math.atan2(math.sqrt(a), math.sqrt(1-a))\n",
    "    d = radius * c\n",
    "\n",
    "    return d\n",
    "\n",
    "def runningMeanFast(x, N):\n",
    "    return np.convolve(x, np.ones((N,))/N)[(N-1):]\n",
    "\n",
    "def haversine(lon1, lat1, lon2, lat2):\n",
    "    \"\"\"\n",
    "    Calculate the great circle distance between two points\n",
    "    on the earth (specified in decimal degrees)\n",
    "    \"\"\"\n",
    "    # convert decimal degrees to radians\n",
    "    lon1, lat1, lon2, lat2 = map(np.radians, [lon1, lat1, lon2, lat2])\n",
    "    # haversine formula\n",
    "    dlon = lon2 - lon1\n",
    "    dlat = lat2 - lat1\n",
    "    a = np.sin(dlat/2)**2 + np.cos(lat1) * np.cos(lat2) * np.sin(dlon/2)**2\n",
    "    c = 2 * np.arcsin(np.sqrt(a))\n",
    "    km = 6367 * c\n",
    "    return km\n",
    "\n",
    "# https://stackoverflow.com/questions/46893369/count-unique-elements-along-an-axis-of-a-numpy-array\n",
    "def nunique_axis0_maskcount_app1(A):\n",
    "    m,n = A.shape[1:]\n",
    "    mask = np.zeros((A.max()+1,m,n),dtype=bool)\n",
    "    mask[A,np.arange(m)[:,None],np.arange(n)] = 1\n",
    "    return mask.sum(0)"
   ]
  },
  {
   "cell_type": "markdown",
   "metadata": {},
   "source": [
    "###  USER INPUT SECTION"
   ]
  },
  {
   "cell_type": "code",
   "execution_count": 6,
   "metadata": {},
   "outputs": [],
   "source": [
    "FocMon=[1,2,3,4,5,6,7,8,9,10,11,12]\n",
    "\n",
    "rgsDataSets_all = ['OBS','WRF']\n",
    "WaterYear_all = ['WY2011', 'WY2016', 'WY2019']\n",
    "rgsDataSetsNames=['Observation','WRF 4km']\n",
    "Trackers = ['Julia'] #['Andreas', 'Julia','Amanda', 'Kelly-Zach', 'Zhe','TOOCAN']\n",
    "\n",
    "\n",
    "sStat='seasons'\n",
    "rgsSeas=['DJF','MAM','JJA','SON']\n",
    "pr_threshold = 2 # mm/h\n",
    "\n",
    "data_dir = '/glade/campaign/mmm/c3we/prein/Papers/2022-SA-MCS-Tracking/data/'\n",
    "data_out_dir = '/glade/campaign/mmm/c3we/prein/Papers/2022-SA-MCS-Tracking/MCS_characteristics/'"
   ]
  },
  {
   "cell_type": "markdown",
   "metadata": {},
   "source": [
    "### Read in the constant fields"
   ]
  },
  {
   "cell_type": "code",
   "execution_count": 7,
   "metadata": {},
   "outputs": [],
   "source": [
    "# IMERGE\n",
    "FocusRegion = [20, -30, -60, -85] #  N, E, S, W\n",
    "\n",
    "dT = 1                    # temporal resolution of data for tracking in hours\n",
    "MCS_min_time = 4\n",
    "obj_structure_3D = np.ones((3,3,3))"
   ]
  },
  {
   "cell_type": "code",
   "execution_count": 17,
   "metadata": {
    "tags": []
   },
   "outputs": [
    {
     "name": "stdout",
     "output_type": "stream",
     "text": [
      "PROCESS OBS\n",
      "690 0 0 480\n"
     ]
    },
    {
     "name": "stderr",
     "output_type": "stream",
     "text": [
      "100%|██████████| 8760/8760 [05:57<00:00, 24.48it/s]\n"
     ]
    },
    {
     "name": "stdout",
     "output_type": "stream",
     "text": [
      "    --- work on Julia ----\n",
      "        calculate MCS characteristics\n"
     ]
    },
    {
     "name": "stderr",
     "output_type": "stream",
     "text": [
      "/glade/scratch/prein/ipykernel_232574/2714350775.py:176: VisibleDeprecationWarning: Creating an ndarray from ragged nested sequences (which is a list-or-tuple of lists-or-tuples-or ndarrays with different lengths or shapes) is deprecated. If you meant to do this, you must specify 'dtype=object' when creating the ndarray.\n",
      "  object_indices = np.array(object_indices)[np.where(~np.isin(np.array(range(1,np.max(elements)+1,1)), elements) == False)]\n"
     ]
    },
    {
     "name": "stdout",
     "output_type": "stream",
     "text": [
      "            Loop over 123200 objects\n"
     ]
    },
    {
     "name": "stderr",
     "output_type": "stream",
     "text": [
      "  0%|          | 0/7344 [00:00<?, ?it/s]"
     ]
    },
    {
     "name": "stdout",
     "output_type": "stream",
     "text": [
      "> \u001b[0;32m/glade/scratch/prein/ipykernel_232574/2714350775.py\u001b[0m(201)\u001b[0;36m<cell line: 1>\u001b[0;34m()\u001b[0m\n",
      "\u001b[0;32m    199 \u001b[0;31m                        \u001b[0mdata_slice\u001b[0m\u001b[0;34m[\u001b[0m\u001b[0mdata_slice\u001b[0m \u001b[0;34m<\u001b[0m \u001b[0mpr_threshold\u001b[0m\u001b[0;34m]\u001b[0m \u001b[0;34m=\u001b[0m \u001b[0mnp\u001b[0m\u001b[0;34m.\u001b[0m\u001b[0mnan\u001b[0m\u001b[0;34m\u001b[0m\u001b[0;34m\u001b[0m\u001b[0m\n",
      "\u001b[0m\u001b[0;32m    200 \u001b[0;31m                        \u001b[0mstop\u001b[0m\u001b[0;34m(\u001b[0m\u001b[0;34m)\u001b[0m\u001b[0;34m\u001b[0m\u001b[0;34m\u001b[0m\u001b[0m\n",
      "\u001b[0m\u001b[0;32m--> 201 \u001b[0;31m                        \u001b[0mgrid_cell_area_slice\u001b[0m \u001b[0;34m=\u001b[0m \u001b[0mnp\u001b[0m\u001b[0;34m.\u001b[0m\u001b[0mtile\u001b[0m\u001b[0;34m(\u001b[0m\u001b[0mgrid_cell_area\u001b[0m\u001b[0;34m[\u001b[0m\u001b[0mlat_idx_slice\u001b[0m\u001b[0;34m,\u001b[0m \u001b[0mlon_idx_slice\u001b[0m\u001b[0;34m]\u001b[0m\u001b[0;34m,\u001b[0m \u001b[0;34m(\u001b[0m\u001b[0mlen\u001b[0m\u001b[0;34m(\u001b[0m\u001b[0mdata_slice\u001b[0m\u001b[0;34m)\u001b[0m\u001b[0;34m,\u001b[0m \u001b[0;36m1\u001b[0m\u001b[0;34m,\u001b[0m \u001b[0;36m1\u001b[0m\u001b[0;34m)\u001b[0m\u001b[0;34m)\u001b[0m\u001b[0;34m\u001b[0m\u001b[0;34m\u001b[0m\u001b[0m\n",
      "\u001b[0m\u001b[0;32m    202 \u001b[0;31m                        \u001b[0mgrid_cell_area_slice\u001b[0m\u001b[0;34m[\u001b[0m\u001b[0mobject_slice\u001b[0m \u001b[0;34m!=\u001b[0m \u001b[0;34m(\u001b[0m\u001b[0miobj\u001b[0m\u001b[0;34m)\u001b[0m\u001b[0;34m]\u001b[0m \u001b[0;34m=\u001b[0m \u001b[0mnp\u001b[0m\u001b[0;34m.\u001b[0m\u001b[0mnan\u001b[0m\u001b[0;34m\u001b[0m\u001b[0;34m\u001b[0m\u001b[0m\n",
      "\u001b[0m\u001b[0;32m    203 \u001b[0;31m                        \u001b[0mlat_slice\u001b[0m \u001b[0;34m=\u001b[0m \u001b[0mLat\u001b[0m\u001b[0;34m[\u001b[0m\u001b[0mlat_idx_slice\u001b[0m\u001b[0;34m,\u001b[0m \u001b[0mlon_idx_slice\u001b[0m\u001b[0;34m]\u001b[0m\u001b[0;34m\u001b[0m\u001b[0;34m\u001b[0m\u001b[0m\n",
      "\u001b[0m\n"
     ]
    },
    {
     "name": "stdin",
     "output_type": "stream",
     "text": [
      "ipdb>  grid_cell_area[lat_idx_slice, lon_idx_slice]\n"
     ]
    },
    {
     "name": "stdout",
     "output_type": "stream",
     "text": [
      "array([[116.51234211, 116.51234211, 116.51234211, ..., 116.51234211,\n",
      "        116.51234211, 116.51234211],\n",
      "       [116.58357691, 116.58357691, 116.58357691, ..., 116.58357691,\n",
      "        116.58357691, 116.58357691],\n",
      "       [116.65445658, 116.65445658, 116.65445658, ..., 116.65445658,\n",
      "        116.65445658, 116.65445658],\n",
      "       ...,\n",
      "       [119.4731711 , 119.4731711 , 119.4731711 , ..., 119.4731711 ,\n",
      "        119.4731711 , 119.4731711 ],\n",
      "       [119.52749887, 119.52749887, 119.52749887, ..., 119.52749887,\n",
      "        119.52749887, 119.52749887],\n",
      "       [119.58146254, 119.58146254, 119.58146254, ..., 119.58146254,\n",
      "        119.58146254, 119.58146254]])\n"
     ]
    },
    {
     "name": "stdin",
     "output_type": "stream",
     "text": [
      "ipdb>  exit\n"
     ]
    },
    {
     "name": "stderr",
     "output_type": "stream",
     "text": [
      "  0%|          | 0/7344 [14:57<?, ?it/s]\n"
     ]
    }
   ],
   "source": [
    "for da in range(len(rgsDataSets_all)):\n",
    "    rgsDataSets = rgsDataSets_all[da]\n",
    "    print('PROCESS '+rgsDataSets)\n",
    "    for wy in range(len(WaterYear_all)):\n",
    "        WaterYear = WaterYear_all[wy]\n",
    "\n",
    "        ### SET DATA SPECIFIC VARIABLES   \n",
    "        if WaterYear == 'WY2011':\n",
    "            StartDay = datetime.datetime(2010, 6, 1,0)\n",
    "            StopDay = datetime.datetime(2011, 5, 31,23)    \n",
    "        elif WaterYear == 'WY2016':\n",
    "            StartDay = datetime.datetime(2015, 6, 1,0)\n",
    "            StopDay = datetime.datetime(2016, 5, 31,23)    \n",
    "        elif WaterYear == 'WY2019':\n",
    "            StartDay = datetime.datetime(2018, 6, 1,0)\n",
    "            StopDay = datetime.datetime(2019, 5, 31,23)\n",
    "\n",
    "        # ===============================================\n",
    "        # Setup variables for computation\n",
    "\n",
    "        TimeHH=pd.date_range(StartDay, end=StopDay, freq='h')\n",
    "        TimeMM=pd.date_range(StartDay, end=StopDay + datetime.timedelta(days=1), freq='m')\n",
    "        TimeDD = pd.date_range(StartDay, end=StopDay, freq='d')\n",
    "        TimeBT = pd.date_range(StartDay, end=StopDay, freq='h')\n",
    "        Time = pd.date_range(StartDay, end=StopDay, freq=str(dT)+'h')\n",
    "        Years = np.unique(TimeMM.year)\n",
    "        iHHall = np.array(range(len(TimeHH)))\n",
    "\n",
    "        # # ### Read the target grid\n",
    "        ncid=Dataset('/glade/campaign/mmm/c3we/prein/SouthAmerica/MCS-Tracking/GPM/2001/merg_2001123110_4km-pixel.nc', mode='r')\n",
    "        Lat=np.squeeze(ncid.variables['lat'][:])\n",
    "        Lon=np.squeeze(ncid.variables['lon'][:])\n",
    "        ncid.close()\n",
    "        Lon,Lat = np.meshgrid(Lon,Lat)\n",
    "\n",
    "        _,_,grid_cell_area,grid_spacing = calc_grid_distance_area(Lon,Lat)\n",
    "        grid_cell_area[grid_cell_area < 0] = 0\n",
    "\n",
    "        if Lon.max() > 180:\n",
    "            Lon[Lon > 180] = Lon[Lon > 180]-360\n",
    "\n",
    "        if (FocusRegion[1] > 0) & (FocusRegion[3] < 0):\n",
    "            # region crosses zero meridian\n",
    "            iRoll = np.sum(Lon[0,:] < 0)\n",
    "        else:\n",
    "            iRoll=0\n",
    "        Lon = np.roll(Lon,iRoll, axis=1)\n",
    "\n",
    "        iNorth = np.argmin(np.abs(Lat[:,0] - FocusRegion[0]))+1\n",
    "        iSouth = np.argmin(np.abs(Lat[:,0] - FocusRegion[2]))\n",
    "        iEast = np.argmin(np.abs(Lon[0,:] - FocusRegion[1]))+1\n",
    "        iWest = np.argmin(np.abs(Lon[0,:] - FocusRegion[3]))\n",
    "        print(iNorth,iSouth,iWest,iEast)\n",
    "\n",
    "        Lon = Lon[iSouth:iNorth,iWest:iEast]\n",
    "        Lat = Lat[iSouth:iNorth,iWest:iEast]\n",
    "\n",
    "        Mask = np.copy(Lon); Mask[:]=1\n",
    "\n",
    "        ## Load the precipitation data\n",
    "        DATA_PR = np.zeros((len(Time),Lon.shape[0],Lon.shape[1])); DATA_PR[:] = np.nan\n",
    "        if rgsDataSets == 'OBS':\n",
    "            pr_data_dir = '/glade/campaign/mmm/c3we/prein/SouthAmerica/MCS-Tracking/GPM/'\n",
    "            for hh in tqdm(range(len(TimeHH))):\n",
    "                YYYY = str(TimeHH[hh].year)\n",
    "                MM = str(TimeHH[hh].month).zfill(2)\n",
    "                DD = str(TimeHH[hh].day).zfill(2)\n",
    "                HH = str(TimeHH[hh].hour).zfill(2)\n",
    "                file_dir = pr_data_dir + YYYY + '/merg_' + YYYY + MM + DD + HH + '_4km-pixel.nc'\n",
    "                ncid=Dataset(file_dir, mode='r')\n",
    "                DATA_PR [hh,:,:] =np.squeeze(ncid.variables['precipitationCal'][0,:])\n",
    "                ncid.close()\n",
    "        if rgsDataSets == 'WRF':\n",
    "            pr_data_dir = '/glade/campaign/mmm/c3we/prein/SouthAmerica/MCS-Tracking/WY' +str(TimeHH[0].year + 1)+'/WRF/'\n",
    "            for hh in tqdm(range(len(TimeHH))):\n",
    "                YYYY = str(TimeHH[hh].year)\n",
    "                MM = str(TimeHH[hh].month).zfill(2)\n",
    "                DD = str(TimeHH[hh].day).zfill(2)\n",
    "                HH = str(TimeHH[hh].hour).zfill(2)\n",
    "                file_dir = pr_data_dir + '/tb_rainrate_'+YYYY+'-'+MM+'-'+DD+'_'+HH+':00.nc'\n",
    "                ncid=Dataset(file_dir, mode='r')\n",
    "                DATA_PR [hh,:,:] =np.squeeze(ncid.variables['rainrate'][0,:])\n",
    "                ncid.close()\n",
    "\n",
    "        ### Read MCS mask files and calculate MCS statistics\n",
    "        for tr in range(len(Trackers)):\n",
    "            outfile = data_out_dir+Trackers[tr]+'_' + rgsDataSets + '_MCS_WY' +str(TimeHH[0].year + 1) + '.pkl'\n",
    "            if os.path.isfile(outfile+'*') == 0:\n",
    "                print('    --- work on '+Trackers[tr] + ' ----')\n",
    "\n",
    "                mcs_mask = np.zeros((len(Time),Lon.shape[0],Lon.shape[1])); mcs_mask[:] = np.nan\n",
    "                if Trackers[tr] == 'Andreas':\n",
    "                    file = data_dir + Trackers[tr] + '/prein_WY' +str(TimeHH[0].year + 1)+ '_' +rgsDataSets+ '_SAAG-MCS-mask-file.nc'\n",
    "                    ncid=Dataset(file, mode='r')\n",
    "                    mcs_mask[:,:,:] =np.squeeze(ncid.variables['mcs_mask'][:])\n",
    "                    ncid.close()\n",
    "                if Trackers[tr] == 'Julia':\n",
    "                    for mm in range(len(TimeMM)):\n",
    "                        time_loc = np.isin(TimeHH.month, TimeMM[mm].month)\n",
    "                        file = data_dir + Trackers[tr] + '/kukulies_WY' +str(TimeHH[0].year + 1)+ '-'+str(TimeMM[mm].month).zfill(2)+'_' +rgsDataSets+ '_SAAG-MCS-mask-file.nc'\n",
    "                        ncid=Dataset(file, mode='r')\n",
    "                        mask_mm = np.squeeze(ncid.variables['mcs_mask'][:])\n",
    "                        ncid.close()\n",
    "                        mask_mm[mask_mm > 0] = mask_mm[mask_mm > 0] + int((TimeMM[mm].month)*10000)\n",
    "                        mcs_mask[time_loc,:,:] = mask_mm\n",
    "                if Trackers[tr] == 'Amanda':\n",
    "                    file = data_dir + Trackers[tr] + '/Rehbein_WY' +str(TimeHH[0].year + 1)+ '_' +rgsDataSets+ '_SAAG-MCS-mask-file.nc'\n",
    "                    ds_disk = xr.open_dataset(file)\n",
    "                    time_amanda = pd.to_datetime(ds_disk['time'].values)\n",
    "                    mcs_mask_amanda = ds_disk['mcs_mask'].values\n",
    "                    mcs_mask_amanda[np.isnan(mcs_mask_amanda)] = 0\n",
    "                    time_sel = np.isin(time_amanda, Time)\n",
    "                    time_sel_fin = np.isin(Time, time_amanda)\n",
    "                    mcs_mask[time_sel_fin,:,:] = mcs_mask_amanda[time_sel,:]\n",
    "                if Trackers[tr] == 'Kelly-Zach':\n",
    "                    file = data_dir + Trackers[tr] + '/TAMS_WY' +str(TimeHH[0].year + 1)+ '_' +rgsDataSets+ '_SAAG-MCS-mask-file.nc'\n",
    "                    if os.path.isfile(file) == True:\n",
    "                        ds_disk = xr.open_dataset(file)\n",
    "                        time_nc = pd.to_datetime(ds_disk['time'].values)\n",
    "                        mcs_mask_nc = ds_disk['mcs_mask'].values\n",
    "                        time_axis = np.where(time_nc.shape[0] == np.array(mcs_mask_nc.shape))[0][0]\n",
    "                        if time_axis !=0:\n",
    "                            mcs_mask_nc = np.moveaxis(mcs_mask_nc, time_axis, 0)\n",
    "                        mcs_mask_nc[np.isnan(mcs_mask_nc)] = 0\n",
    "                        time_sel = np.isin(time_nc, Time)\n",
    "                        time_sel_fin = np.isin(Time, time_nc)\n",
    "                        mcs_mask[time_sel_fin,:,:] = mcs_mask_nc[time_sel,:]\n",
    "                    else:\n",
    "                        print('    File does not exist - '+file)\n",
    "                if Trackers[tr] == 'Zhe':\n",
    "                    from datetime import timedelta\n",
    "                    file = data_dir + Trackers[tr] + '/feng_WY' +str(TimeHH[0].year + 1)+ '_' +rgsDataSets+ '_SAAG-MCS-mask-file.nc'\n",
    "                    ds_disk = xr.open_dataset(file)\n",
    "                    time_nc = pd.to_datetime(ds_disk['time'].values)\n",
    "                    if rgsDataSets == 'OBS':\n",
    "                        time_nc = pd.Series(time_nc - timedelta(hours=0, minutes=30)).dt.round(\"s\")\n",
    "                    mcs_mask_nc = ds_disk['mcs_mask'].values\n",
    "                    mcs_mask_nc[np.isnan(mcs_mask_nc)] = 0\n",
    "                    time_sel = np.isin(time_nc, Time)\n",
    "                    time_sel_fin = np.isin(Time, time_nc)\n",
    "                    mcs_mask[time_sel_fin,:,:] = mcs_mask_nc[time_sel,:]\n",
    "                if Trackers[tr] == 'TOOCAN':\n",
    "                    file = data_dir + Trackers[tr] + '/TOOCAN_WY' +str(TimeHH[0].year + 1)+ '_' +rgsDataSets+ '_SAAG-MCS-mask-file.nc'\n",
    "                    if os.path.isfile(file) == False:\n",
    "                        continue\n",
    "                    ncid=Dataset(file, mode='r')\n",
    "                    mcs_mask[:,:,:] =np.squeeze(ncid.variables['mcs_mask'][:])\n",
    "                    ncid.close()\n",
    "\n",
    "                print('        calculate MCS characteristics')\n",
    "#                 objects_id_mcs, num_objects = ndimage.label(mcs_mask, structure=obj_structure_3D)\n",
    "                objects_id_mcs = mcs_mask.astype(int)\n",
    "                objects_id_mcs[objects_id_mcs < 0] = 0\n",
    "\n",
    "\n",
    "                # CALCULATE OBJECT CHARACTERISTICS\n",
    "                var_objects = objects_id_mcs # feature object file\n",
    "                var_data = DATA_PR  # original file used for feature detection\n",
    "                filename_out = outfile  # output file name and locaiton\n",
    "                times = TimeHH  # timesteps of the data\n",
    "                Lat = Lat  # 2D latidudes\n",
    "                Lon = Lon  # 2D Longitudes\n",
    "                grid_spacing = grid_spacing  # average grid spacing\n",
    "                grid_cell_area = grid_cell_area\n",
    "                min_tsteps = int(MCS_min_time / dT)\n",
    "                \n",
    "                import scipy\n",
    "                import pickle\n",
    "\n",
    "                num_objects = int(var_objects.max())\n",
    "            #     num_objects = len(np.unique(var_objects))-1\n",
    "                object_indices = ndimage.find_objects(var_objects)\n",
    "                # remove elements that did not have an element and were assigned a None\n",
    "                elements = np.unique(var_objects)\n",
    "                elements = elements[elements > 0]\n",
    "                object_indices = np.array(object_indices)[np.where(~np.isin(np.array(range(1,np.max(elements)+1,1)), elements) == False)]\n",
    "\n",
    "                if num_objects >= 1:\n",
    "                    objects_charac = {}\n",
    "                    print(\"            Loop over \" + str(num_objects) + \" objects\")\n",
    "#                     mcs_index = np.unique(var_objects)[1:]\n",
    "                    ii = 0\n",
    "                    for iobj in tqdm(elements):\n",
    "#                         if iobj == 22048:\n",
    "#                             stop()\n",
    "                        object_slice = np.copy(var_objects[tuple(object_indices[ii])])\n",
    "                        if np.isin(iobj, np.unique(var_objects[tuple(object_indices[ii])])) == False:\n",
    "                            stop()\n",
    "#                         orig_obj_id = np.copy(mcs_mask[object_indices[ii]])\n",
    "#                         orig_obj_id[object_slice!=(iobj)] = np.nan\n",
    "#                         orig_obj_id = int(np.unique(orig_obj_id[:,:,:])[0])\n",
    "                        data_slice   = np.copy(var_data[tuple(object_indices[ii])])\n",
    "                        time_idx_slice = tuple(object_indices[ii])[0]\n",
    "                        lat_idx_slice  = tuple(object_indices[ii])[1]\n",
    "                        lon_idx_slice  = tuple(object_indices[ii])[2]\n",
    "\n",
    "#                         if len(object_slice) >= min_tsteps:\n",
    "                        data_slice[object_slice!=(iobj)] = np.nan\n",
    "                        data_slice[data_slice < pr_threshold] = np.nan\n",
    "                        stop()\n",
    "                        grid_cell_area_slice = np.tile(grid_cell_area[lat_idx_slice, lon_idx_slice], (len(data_slice), 1, 1))\n",
    "                        grid_cell_area_slice[object_slice != (iobj)] = np.nan\n",
    "                        lat_slice = Lat[lat_idx_slice, lon_idx_slice]\n",
    "                        lon_slice = Lon[lat_idx_slice, lon_idx_slice]\n",
    "\n",
    "                        # calculate statistics\n",
    "                        obj_times = times[time_idx_slice]\n",
    "                        obj_size  = np.nansum(grid_cell_area_slice, axis=(1, 2))\n",
    "                        obj_min = np.nanmin(data_slice, axis=(1, 2))\n",
    "                        obj_max = np.nanmax(data_slice, axis=(1, 2))\n",
    "                        obj_95P = np.nanpercentile(data_slice, 95 ,axis=(1, 2))\n",
    "                        obj_mean = np.nanmean(data_slice, axis=(1, 2))\n",
    "                        obj_tot = np.nansum(data_slice * grid_cell_area_slice, axis=(1, 2))\n",
    "                        data_slice[data_slice < 10] = np.nan\n",
    "                        obj_tot_gt10 = np.nansum(data_slice * grid_cell_area_slice, axis=(1, 2))\n",
    "\n",
    "                        # Track lat/lon\n",
    "                        obj_mass_center = \\\n",
    "                        np.array([ndimage.measurements.center_of_mass(object_slice[tt,:,:]==(iobj)) for tt in range(object_slice.shape[0])])\n",
    "\n",
    "                        obj_track = np.full([len(obj_mass_center), 2], np.nan)\n",
    "                        iREAL = ~np.isnan(obj_mass_center[:,0])\n",
    "                        try:\n",
    "                            obj_track[iREAL,0]=np.array([lat_slice[int(round(obj_loc[0])),int(round(obj_loc[1]))] for tstep, obj_loc in enumerate(obj_mass_center[iREAL,:]) if np.isnan(obj_loc[0]) != True])\n",
    "                            obj_track[iREAL,1]=np.array([lon_slice[int(round(obj_loc[0])),int(round(obj_loc[1]))] for tstep, obj_loc in enumerate(obj_mass_center[iREAL,:]) if np.isnan(obj_loc[0]) != True])\n",
    "                        except:\n",
    "                            stop()\n",
    "\n",
    "\n",
    "        #                 obj_track = np.full([len(obj_mass_center), 2], np.nan)\n",
    "        #                 try:\n",
    "        #                     obj_track[:,0]=np.array([lat_slice[int(round(obj_loc[0])),int(round(obj_loc[1]))]    for tstep, obj_loc in enumerate(obj_mass_center[:,:]) if np.isnan(obj_loc[0]) != True])\n",
    "        #                     obj_track[:,1]=np.array([lon_slice[int(round(obj_loc[0])),int(round(obj_loc[1]))]    for tstep, obj_loc in enumerate(obj_mass_center[:,:]) if np.isnan(obj_loc[0]) != True])\n",
    "        #                 except:\n",
    "        #                     stop()\n",
    "\n",
    "        #                 if np.any(np.isnan(obj_track)):\n",
    "        #                     raise ValueError(\"track array contains NaNs\")\n",
    "\n",
    "                        obj_speed = (np.sum(np.diff(obj_mass_center,axis=0)**2,axis=1)**0.5) * (grid_spacing / 1000.0)\n",
    "\n",
    "                        this_object_charac = {\n",
    "                            \"mass_center_loc\": obj_mass_center,\n",
    "                            \"speed\": obj_speed,\n",
    "                            \"tot\": obj_tot,\n",
    "                            \"min\": obj_min,\n",
    "                            \"max\": obj_max,\n",
    "                            \"mean\": obj_mean,\n",
    "                            \"size\": obj_size,\n",
    "                            #                        'rgrAccumulation':rgrAccumulation,\n",
    "                            \"P95pr\": obj_95P,\n",
    "                            \"tot_vs_gt10\": obj_tot_gt10,\n",
    "                            \"times\": obj_times,\n",
    "                            \"track\": obj_track,\n",
    "                        }\n",
    "                        try:\n",
    "                            objects_charac[str(iobj)] = this_object_charac\n",
    "                        except:\n",
    "                            raise ValueError (\"Error asigning properties to final dictionary\")\n",
    "                        ii += 1\n",
    "\n",
    "                    if filename_out is not None:\n",
    "                        with open(filename_out, 'wb') as handle:\n",
    "                            pickle.dump(objects_charac, handle)\n",
    "\n",
    "                    grMCSs = objects_charac\n",
    "\n",
    "                # calculate monthly mean total and MCS rainfall\n",
    "                DATA_PR_mm = np.array([\n",
    "                    np.mean(DATA_PR[TimeHH.month == mm,:], axis=0) for mm in TimeMM.month\n",
    "                ])\n",
    "                DATA_PR_mm_mcs = np.copy(DATA_PR)\n",
    "                DATA_PR_mm_mcs[objects_id_mcs == 0] = 0\n",
    "                DATA_PR_mm_mcs = np.array([\n",
    "                    np.mean(DATA_PR_mm_mcs[TimeHH.month == mm,:], axis=0) for mm in TimeMM.month\n",
    "                ])\n",
    "                \n",
    "                # Calculate frequency of objects\n",
    "                object_frequency = np.array([\n",
    "                    np.sum(objects_id_mcs[TimeHH.month == mm,:] > 0, axis=0) for mm in TimeMM.month\n",
    "                ])\n",
    "                \n",
    "                # Unique MCSs in each grid cell\n",
    "                object_frequency_unique = np.array([\n",
    "                    nunique_axis0_maskcount_app1(objects_id_mcs[TimeHH.month == mm,:]) for mm in TimeMM.month\n",
    "                ])\n",
    "                \n",
    "                np.savez(data_out_dir+Trackers[tr]+'_' + rgsDataSets + \n",
    "                        '_MCS-PR-contribution_WY' +str(TimeHH[0].year + 1)+'.npz',\n",
    "                       Lon = Lon,\n",
    "                       Lat = Lat,\n",
    "                       TimeMM = TimeMM,\n",
    "                       DATA_PR_mm = DATA_PR_mm,\n",
    "                       DATA_PR_mm_mcs = DATA_PR_mm_mcs,\n",
    "                       object_frequency = object_frequency,\n",
    "                       object_frequency_unique = object_frequency_unique\n",
    "                       )\n",
    "                stop()\n",
    "            else:\n",
    "                print('    skip '+outfile)"
   ]
  },
  {
   "cell_type": "code",
   "execution_count": 19,
   "metadata": {},
   "outputs": [],
   "source": [
    "grid_cell_area_slice = np.tile(grid_cell_area[lat_idx_slice, lon_idx_slice], (len(data_slice), 1, 1))\n",
    "grid_cell_area_slice[object_slice != (iobj)] = np.nan"
   ]
  },
  {
   "cell_type": "code",
   "execution_count": 23,
   "metadata": {},
   "outputs": [
    {
     "data": {
      "text/plain": [
       "<matplotlib.collections.QuadMesh at 0x2addcc116940>"
      ]
     },
     "execution_count": 23,
     "metadata": {},
     "output_type": "execute_result"
    },
    {
     "data": {
      "image/png": "[encoded data removed]",
      "text/plain": [
       "<Figure size 432x288 with 1 Axes>"
      ]
     },
     "metadata": {
      "needs_background": "light"
     },
     "output_type": "display_data"
    }
   ],
   "source": [
    "plt.pcolormesh(grid_cell_area_slice[3,:,:])"
   ]
  },
  {
   "cell_type": "code",
   "execution_count": 31,
   "metadata": {},
   "outputs": [
    {
     "data": {
      "text/plain": [
       "68894.33370054279"
      ]
     },
     "execution_count": 31,
     "metadata": {},
     "output_type": "execute_result"
    }
   ],
   "source": [
    "np.nansum(grid_cell_area_slice, axis=(1, 2)).min()"
   ]
  },
  {
   "cell_type": "code",
   "execution_count": null,
   "metadata": {
    "collapsed": true,
    "jupyter": {
     "outputs_hidden": true
    },
    "tags": []
   },
   "outputs": [],
   "source": [
    "[np.mean(objects_charac[list(objects_charac.keys())[ii]]['size'])/1000**2 for ii in range(len(objects_charac.keys()))]"
   ]
  },
  {
   "cell_type": "code",
   "execution_count": 43,
   "metadata": {},
   "outputs": [
    {
     "data": {
      "text/plain": [
       "<matplotlib.collections.QuadMesh at 0x2addcc0f4a60>"
      ]
     },
     "execution_count": 43,
     "metadata": {},
     "output_type": "execute_result"
    },
    {
     "data": {
      "image/png": "[encoded data removed]",
      "text/plain": [
       "<Figure size 432x288 with 1 Axes>"
      ]
     },
     "metadata": {
      "needs_background": "light"
     },
     "output_type": "display_data"
    }
   ],
   "source": [
    "plt.pcolormesh(Lon,Lat,grid_cell_area)"
   ]
  },
  {
   "cell_type": "code",
   "execution_count": 32,
   "metadata": {},
   "outputs": [
    {
     "data": {
      "text/plain": [
       "masked_array(\n",
       "  data=[[-81.95, -81.85, -81.75, ..., -34.25, -34.15, -34.05],\n",
       "        [-81.95, -81.85, -81.75, ..., -34.25, -34.15, -34.05],\n",
       "        [-81.95, -81.85, -81.75, ..., -34.25, -34.15, -34.05],\n",
       "        ...,\n",
       "        [-81.95, -81.85, -81.75, ..., -34.25, -34.15, -34.05],\n",
       "        [-81.95, -81.85, -81.75, ..., -34.25, -34.15, -34.05],\n",
       "        [-81.95, -81.85, -81.75, ..., -34.25, -34.15, -34.05]],\n",
       "  mask=False,\n",
       "  fill_value=1e+20)"
      ]
     },
     "execution_count": 32,
     "metadata": {},
     "output_type": "execute_result"
    }
   ],
   "source": [
    "Lon"
   ]
  },
  {
   "cell_type": "code",
   "execution_count": 33,
   "metadata": {},
   "outputs": [
    {
     "data": {
      "text/plain": [
       "masked_array(\n",
       "  data=[[-55.95, -55.95, -55.95, ..., -55.95, -55.95, -55.95],\n",
       "        [-55.85, -55.85, -55.85, ..., -55.85, -55.85, -55.85],\n",
       "        [-55.75, -55.75, -55.75, ..., -55.75, -55.75, -55.75],\n",
       "        ...,\n",
       "        [ 12.75,  12.75,  12.75, ...,  12.75,  12.75,  12.75],\n",
       "        [ 12.85,  12.85,  12.85, ...,  12.85,  12.85,  12.85],\n",
       "        [ 12.95,  12.95,  12.95, ...,  12.95,  12.95,  12.95]],\n",
       "  mask=False,\n",
       "  fill_value=1e+20)"
      ]
     },
     "execution_count": 33,
     "metadata": {},
     "output_type": "execute_result"
    }
   ],
   "source": [
    "Lat"
   ]
  },
  {
   "cell_type": "code",
   "execution_count": 5,
   "metadata": {},
   "outputs": [],
   "source": [
    "from Tracking_Functions import calc_grid_distance_area"
   ]
  },
  {
   "cell_type": "code",
   "execution_count": 20,
   "metadata": {},
   "outputs": [],
   "source": [
    "ncid=Dataset('/glade/campaign/mmm/c3we/prein/SouthAmerica/MCS-Tracking/GPM/2001/merg_2001123110_4km-pixel.nc', mode='r')\n",
    "Lat=np.squeeze(ncid.variables['lat'][:])\n",
    "Lon=np.squeeze(ncid.variables['lon'][:])\n",
    "ncid.close()\n",
    "Lon,Lat = np.meshgrid(Lon,Lat)"
   ]
  },
  {
   "cell_type": "code",
   "execution_count": 21,
   "metadata": {},
   "outputs": [],
   "source": [
    "_,_,grid_cell_area,grid_spacing = calc_grid_distance_area(Lon,Lat)\n",
    "grid_cell_area[grid_cell_area < 0] = 0"
   ]
  },
  {
   "cell_type": "code",
   "execution_count": 23,
   "metadata": {},
   "outputs": [
    {
     "data": {
      "text/plain": [
       "array([[ 69.14286975,  69.14286975,  69.14286975, ...,  69.14286975,\n",
       "         69.14286975,  69.14286975],\n",
       "       [ 69.32133914,  69.32133914,  69.32133914, ...,  69.32133914,\n",
       "         69.32133914,  69.32133914],\n",
       "       [ 69.49959736,  69.49959736,  69.49959736, ...,  69.49959736,\n",
       "         69.49959736,  69.49959736],\n",
       "       ...,\n",
       "       [120.44298244, 120.44298244, 120.44298243, ..., 120.44298243,\n",
       "        120.44298243, 120.44298243],\n",
       "       [120.39523273, 120.39523273, 120.39523273, ..., 120.39523273,\n",
       "        120.39523273, 120.39523273],\n",
       "       [120.34711629, 120.34711629, 120.34711629, ..., 120.34711629,\n",
       "        120.34711629, 120.34711629]])"
      ]
     },
     "execution_count": 23,
     "metadata": {},
     "output_type": "execute_result"
    }
   ],
   "source": [
    "grid_cell_area"
   ]
  },
  {
   "cell_type": "code",
   "execution_count": 8,
   "metadata": {},
   "outputs": [
    {
     "data": {
      "text/plain": [
       "8420.55884462646"
      ]
     },
     "execution_count": 8,
     "metadata": {},
     "output_type": "execute_result"
    }
   ],
   "source": [
    "grid_spacing"
   ]
  },
  {
   "cell_type": "code",
   "execution_count": 16,
   "metadata": {},
   "outputs": [],
   "source": [
    "def calc_grid_distance_area(lat,lon):\n",
    "    \"\"\" Function to calculate grid parameters\n",
    "        It uses haversine function to approximate distances\n",
    "        It approximates the first row and column to the sencond\n",
    "        because coordinates of grid cell center are assumed\n",
    "        lat, lon: input coordinates(degrees) 2D [y,x] dimensions\n",
    "        dx: distance (m)\n",
    "        dy: distance (m)\n",
    "        area: area of grid cell (m2)\n",
    "        grid_distance: average grid distance over the domain (m)\n",
    "    \"\"\"\n",
    "    dy = np.zeros(lat.shape)\n",
    "    dx = np.zeros(lon.shape)\n",
    "\n",
    "    dx[:,1:]=haversine(lat[:,1:],lon[:,1:],lat[:,:-1],lon[:,:-1])\n",
    "    dy[1:,:]=haversine(lat[1:,:],lon[1:,:],lat[:-1,:],lon[:-1,:])\n",
    "\n",
    "    dx[:,0] = dx[:,1]\n",
    "    dy[0,:] = dy[1,:]\n",
    "\n",
    "    area = dx*dy\n",
    "    grid_distance = np.mean(np.append(dy[:, :, None], dx[:, :, None], axis=2))\n",
    "\n",
    "    return dx,dy,area,grid_distance"
   ]
  },
  {
   "cell_type": "code",
   "execution_count": 13,
   "metadata": {},
   "outputs": [],
   "source": [
    "def haversine(lat1, lon1, lat2, lon2):\n",
    "\n",
    "    \"\"\"Function to calculate grid distances lat-lon\n",
    "       This uses the Haversine formula\n",
    "       lat,lon : input coordinates (degrees) - array or float\n",
    "       dist_m : distance (m)\n",
    "       https://en.wikipedia.org/wiki/Haversine_formula\n",
    "       \"\"\"\n",
    "    # convert decimal degrees to radians\n",
    "    lon1 = np.radians(lon1)\n",
    "    lon2 = np.radians(lon2)\n",
    "    lat1 = np.radians(lat1)\n",
    "    lat2 = np.radians(lat2)\n",
    "\n",
    "    # haversine formula\n",
    "    dlon = lon2 - lon1\n",
    "    dlat = lat2 - lat1\n",
    "    a = np.sin(dlat / 2) ** 2 + \\\n",
    "    np.cos(lat1) * np.cos(lat2) * np.sin(dlon / 2) ** 2\n",
    "    c = 2 * np.arcsin(np.sqrt(a))\n",
    "    # Radius of earth in kilometers is 6371\n",
    "    dist_m = c * 6371000 #const.earth_radius\n",
    "    return dist_m"
   ]
  },
  {
   "cell_type": "code",
   "execution_count": 19,
   "metadata": {},
   "outputs": [],
   "source": [
    "def haversine(lon1, lat1, lon2, lat2):\n",
    "    \"\"\"\n",
    "    Calculate the great circle distance between two points\n",
    "    on the earth (specified in decimal degrees)\n",
    "    \"\"\"\n",
    "    # convert decimal degrees to radians\n",
    "    lon1, lat1, lon2, lat2 = map(np.radians, [lon1, lat1, lon2, lat2])\n",
    "    # haversine formula\n",
    "    dlon = lon2 - lon1\n",
    "    dlat = lat2 - lat1\n",
    "    a = np.sin(dlat/2)**2 + np.cos(lat1) * np.cos(lat2) * np.sin(dlon/2)**2\n",
    "    c = 2 * np.arcsin(np.sqrt(a))\n",
    "    km = 6367 * c\n",
    "    return km"
   ]
  },
  {
   "cell_type": "code",
   "execution_count": null,
   "metadata": {},
   "outputs": [],
   "source": [
    "def haversine(lat1, lon1, lat2, lon2):\n",
    "\n",
    "    \"\"\"Function to calculate grid distances lat-lon\n",
    "       This uses the Haversine formula\n",
    "       lat,lon : input coordinates (degrees) - array or float\n",
    "       dist_m : distance (m)\n",
    "       https://en.wikipedia.org/wiki/Haversine_formula\n",
    "       \"\"\"\n",
    "    # convert decimal degrees to radians\n",
    "    lon1 = np.radians(lon1)\n",
    "    lon2 = np.radians(lon2)\n",
    "    lat1 = np.radians(lat1)\n",
    "    lat2 = np.radians(lat2)\n",
    "\n",
    "    # haversine formula\n",
    "    dlon = lon2 - lon1\n",
    "    dlat = lat2 - lat1\n",
    "    a = np.sin(dlat / 2) ** 2 + \\\n",
    "    np.cos(lat1) * np.cos(lat2) * np.sin(dlon / 2) ** 2\n",
    "    c = 2 * np.arcsin(np.sqrt(a))\n",
    "    # Radius of earth in kilometers is 6371\n",
    "    dist_m = c * 6371000 #const.earth_radius\n",
    "    return dist_m"
   ]
  }
 ],
 "metadata": {
  "kernelspec": {
   "display_name": "Python 3 (ipykernel)",
   "language": "python",
   "name": "python3"
  },
  "language_info": {
   "codemirror_mode": {
    "name": "ipython",
    "version": 3
   },
   "file_extension": ".py",
   "mimetype": "text/x-python",
   "name": "python",
   "nbconvert_exporter": "python",
   "pygments_lexer": "ipython3",
   "version": "3.8.13"
  }
 },
 "nbformat": 4,
 "nbformat_minor": 4
}
